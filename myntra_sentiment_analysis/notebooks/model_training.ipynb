{
 "cells": [
  {
   "cell_type": "code",
   "execution_count": 14,
   "id": "67c805c4",
   "metadata": {},
   "outputs": [],
   "source": [
    "import pandas as pd\n",
    "import os\n",
    "import sklearn"
   ]
  },
  {
   "cell_type": "code",
   "execution_count": 10,
   "id": "b5d08dff",
   "metadata": {},
   "outputs": [],
   "source": [
    "file_path='../data/processed/review_embeddings_flat.jsonl'"
   ]
  },
  {
   "cell_type": "code",
   "execution_count": null,
   "id": "a95f32e8",
   "metadata": {},
   "outputs": [],
   "source": [
    "df=pd.read_json(file_path,lines=True)"
   ]
  },
  {
   "cell_type": "code",
   "execution_count": 17,
   "id": "b08f8c9f",
   "metadata": {},
   "outputs": [
    {
     "data": {
      "text/plain": [
       "(24988, 386)"
      ]
     },
     "execution_count": 17,
     "metadata": {},
     "output_type": "execute_result"
    }
   ],
   "source": [
    "df.shape"
   ]
  },
  {
   "cell_type": "code",
   "execution_count": 18,
   "id": "0588f19e",
   "metadata": {},
   "outputs": [
    {
     "data": {
      "text/html": [
       "<div>\n",
       "<style scoped>\n",
       "    .dataframe tbody tr th:only-of-type {\n",
       "        vertical-align: middle;\n",
       "    }\n",
       "\n",
       "    .dataframe tbody tr th {\n",
       "        vertical-align: top;\n",
       "    }\n",
       "\n",
       "    .dataframe thead th {\n",
       "        text-align: right;\n",
       "    }\n",
       "</style>\n",
       "<table border=\"1\" class=\"dataframe\">\n",
       "  <thead>\n",
       "    <tr style=\"text-align: right;\">\n",
       "      <th></th>\n",
       "      <th>product_id</th>\n",
       "      <th>emb_0</th>\n",
       "      <th>emb_1</th>\n",
       "      <th>emb_2</th>\n",
       "      <th>emb_3</th>\n",
       "      <th>emb_4</th>\n",
       "      <th>emb_5</th>\n",
       "      <th>emb_6</th>\n",
       "      <th>emb_7</th>\n",
       "      <th>emb_8</th>\n",
       "      <th>...</th>\n",
       "      <th>emb_375</th>\n",
       "      <th>emb_376</th>\n",
       "      <th>emb_377</th>\n",
       "      <th>emb_378</th>\n",
       "      <th>emb_379</th>\n",
       "      <th>emb_380</th>\n",
       "      <th>emb_381</th>\n",
       "      <th>emb_382</th>\n",
       "      <th>emb_383</th>\n",
       "      <th>sentiment_label</th>\n",
       "    </tr>\n",
       "  </thead>\n",
       "  <tbody>\n",
       "    <tr>\n",
       "      <th>0</th>\n",
       "      <td>11959230</td>\n",
       "      <td>-0.078594</td>\n",
       "      <td>0.129929</td>\n",
       "      <td>0.056523</td>\n",
       "      <td>0.144707</td>\n",
       "      <td>0.199702</td>\n",
       "      <td>0.101262</td>\n",
       "      <td>0.147255</td>\n",
       "      <td>0.000442</td>\n",
       "      <td>-0.151223</td>\n",
       "      <td>...</td>\n",
       "      <td>0.077554</td>\n",
       "      <td>-0.106031</td>\n",
       "      <td>0.029437</td>\n",
       "      <td>-0.099977</td>\n",
       "      <td>-0.032905</td>\n",
       "      <td>-0.041808</td>\n",
       "      <td>-0.193729</td>\n",
       "      <td>-0.058004</td>\n",
       "      <td>0.081383</td>\n",
       "      <td>positive</td>\n",
       "    </tr>\n",
       "    <tr>\n",
       "      <th>1</th>\n",
       "      <td>11959230</td>\n",
       "      <td>-0.219841</td>\n",
       "      <td>0.065110</td>\n",
       "      <td>0.134325</td>\n",
       "      <td>-0.048430</td>\n",
       "      <td>0.121457</td>\n",
       "      <td>0.026245</td>\n",
       "      <td>0.042463</td>\n",
       "      <td>0.085885</td>\n",
       "      <td>-0.098397</td>\n",
       "      <td>...</td>\n",
       "      <td>-0.028310</td>\n",
       "      <td>-0.180552</td>\n",
       "      <td>-0.019992</td>\n",
       "      <td>0.011392</td>\n",
       "      <td>-0.015777</td>\n",
       "      <td>-0.109712</td>\n",
       "      <td>-0.153661</td>\n",
       "      <td>-0.016068</td>\n",
       "      <td>0.093715</td>\n",
       "      <td>positive</td>\n",
       "    </tr>\n",
       "    <tr>\n",
       "      <th>2</th>\n",
       "      <td>11959230</td>\n",
       "      <td>-0.055830</td>\n",
       "      <td>0.230157</td>\n",
       "      <td>0.083885</td>\n",
       "      <td>0.122777</td>\n",
       "      <td>0.257273</td>\n",
       "      <td>0.006037</td>\n",
       "      <td>0.211846</td>\n",
       "      <td>0.059298</td>\n",
       "      <td>-0.122220</td>\n",
       "      <td>...</td>\n",
       "      <td>0.034576</td>\n",
       "      <td>-0.117615</td>\n",
       "      <td>0.066783</td>\n",
       "      <td>-0.005651</td>\n",
       "      <td>-0.060566</td>\n",
       "      <td>-0.081111</td>\n",
       "      <td>-0.146398</td>\n",
       "      <td>0.094059</td>\n",
       "      <td>0.020247</td>\n",
       "      <td>positive</td>\n",
       "    </tr>\n",
       "    <tr>\n",
       "      <th>3</th>\n",
       "      <td>11959230</td>\n",
       "      <td>-0.217100</td>\n",
       "      <td>0.167046</td>\n",
       "      <td>0.041559</td>\n",
       "      <td>0.137837</td>\n",
       "      <td>0.104023</td>\n",
       "      <td>-0.008704</td>\n",
       "      <td>0.182644</td>\n",
       "      <td>0.077994</td>\n",
       "      <td>-0.060537</td>\n",
       "      <td>...</td>\n",
       "      <td>-0.085504</td>\n",
       "      <td>-0.113000</td>\n",
       "      <td>0.109731</td>\n",
       "      <td>0.156253</td>\n",
       "      <td>0.040082</td>\n",
       "      <td>-0.055862</td>\n",
       "      <td>-0.071165</td>\n",
       "      <td>-0.004521</td>\n",
       "      <td>0.098167</td>\n",
       "      <td>positive</td>\n",
       "    </tr>\n",
       "    <tr>\n",
       "      <th>4</th>\n",
       "      <td>11959230</td>\n",
       "      <td>-0.136551</td>\n",
       "      <td>0.097364</td>\n",
       "      <td>0.068528</td>\n",
       "      <td>-0.041303</td>\n",
       "      <td>-0.008934</td>\n",
       "      <td>-0.035212</td>\n",
       "      <td>0.055692</td>\n",
       "      <td>0.047458</td>\n",
       "      <td>-0.018212</td>\n",
       "      <td>...</td>\n",
       "      <td>-0.015700</td>\n",
       "      <td>-0.018065</td>\n",
       "      <td>0.063246</td>\n",
       "      <td>0.091308</td>\n",
       "      <td>0.009256</td>\n",
       "      <td>0.038343</td>\n",
       "      <td>-0.048844</td>\n",
       "      <td>0.006140</td>\n",
       "      <td>0.058485</td>\n",
       "      <td>positive</td>\n",
       "    </tr>\n",
       "  </tbody>\n",
       "</table>\n",
       "<p>5 rows × 386 columns</p>\n",
       "</div>"
      ],
      "text/plain": [
       "   product_id     emb_0     emb_1     emb_2     emb_3     emb_4     emb_5  \\\n",
       "0    11959230 -0.078594  0.129929  0.056523  0.144707  0.199702  0.101262   \n",
       "1    11959230 -0.219841  0.065110  0.134325 -0.048430  0.121457  0.026245   \n",
       "2    11959230 -0.055830  0.230157  0.083885  0.122777  0.257273  0.006037   \n",
       "3    11959230 -0.217100  0.167046  0.041559  0.137837  0.104023 -0.008704   \n",
       "4    11959230 -0.136551  0.097364  0.068528 -0.041303 -0.008934 -0.035212   \n",
       "\n",
       "      emb_6     emb_7     emb_8  ...   emb_375   emb_376   emb_377   emb_378  \\\n",
       "0  0.147255  0.000442 -0.151223  ...  0.077554 -0.106031  0.029437 -0.099977   \n",
       "1  0.042463  0.085885 -0.098397  ... -0.028310 -0.180552 -0.019992  0.011392   \n",
       "2  0.211846  0.059298 -0.122220  ...  0.034576 -0.117615  0.066783 -0.005651   \n",
       "3  0.182644  0.077994 -0.060537  ... -0.085504 -0.113000  0.109731  0.156253   \n",
       "4  0.055692  0.047458 -0.018212  ... -0.015700 -0.018065  0.063246  0.091308   \n",
       "\n",
       "    emb_379   emb_380   emb_381   emb_382   emb_383  sentiment_label  \n",
       "0 -0.032905 -0.041808 -0.193729 -0.058004  0.081383         positive  \n",
       "1 -0.015777 -0.109712 -0.153661 -0.016068  0.093715         positive  \n",
       "2 -0.060566 -0.081111 -0.146398  0.094059  0.020247         positive  \n",
       "3  0.040082 -0.055862 -0.071165 -0.004521  0.098167         positive  \n",
       "4  0.009256  0.038343 -0.048844  0.006140  0.058485         positive  \n",
       "\n",
       "[5 rows x 386 columns]"
      ]
     },
     "execution_count": 18,
     "metadata": {},
     "output_type": "execute_result"
    }
   ],
   "source": [
    "df.head()"
   ]
  },
  {
   "cell_type": "code",
   "execution_count": 46,
   "id": "396c3e88",
   "metadata": {},
   "outputs": [
    {
     "data": {
      "text/plain": [
       "sentiment_label\n",
       "positive    21593\n",
       "neutral      2443\n",
       "negative      952\n",
       "Name: count, dtype: int64"
      ]
     },
     "execution_count": 46,
     "metadata": {},
     "output_type": "execute_result"
    }
   ],
   "source": [
    "df.sentiment_label.value_counts()"
   ]
  },
  {
   "cell_type": "code",
   "execution_count": null,
   "id": "521a8cc8",
   "metadata": {},
   "outputs": [],
   "source": [
    "# unbalanced dataset"
   ]
  },
  {
   "cell_type": "markdown",
   "id": "54f5b6fb",
   "metadata": {},
   "source": [
    "# Split the data in train and test set"
   ]
  },
  {
   "cell_type": "code",
   "execution_count": 34,
   "id": "019b56b3",
   "metadata": {},
   "outputs": [],
   "source": [
    "from sklearn.model_selection import train_test_split\n",
    "from sklearn.tree import DecisionTreeClassifier\n",
    "from sklearn.ensemble import RandomForestClassifier\n",
    "from sklearn.linear_model import LogisticRegression\n",
    "from sklearn.metrics import classification_report,confusion_matrix,f1_score"
   ]
  },
  {
   "cell_type": "code",
   "execution_count": 26,
   "id": "4f0bdc09",
   "metadata": {},
   "outputs": [],
   "source": [
    "X_train,X_valid,y_train,y_valid=train_test_split(df.drop(['product_id','sentiment_label'],axis=1),df.sentiment_label,train_size=0.8,random_state=42,stratify=df.sentiment_label)"
   ]
  },
  {
   "cell_type": "code",
   "execution_count": 27,
   "id": "e2339514",
   "metadata": {},
   "outputs": [
    {
     "data": {
      "text/plain": [
       "((19990, 384), (4998, 384), (19990,), (4998,))"
      ]
     },
     "execution_count": 27,
     "metadata": {},
     "output_type": "execute_result"
    }
   ],
   "source": [
    "X_train.shape,X_valid.shape,y_train.shape,y_valid.shape"
   ]
  },
  {
   "cell_type": "code",
   "execution_count": 28,
   "id": "aea65eb0",
   "metadata": {},
   "outputs": [],
   "source": [
    "lr_model=LogisticRegression(random_state=42) # random state set for reproducibility\n",
    "dt_model=DecisionTreeClassifier(random_state=42)\n",
    "rf_model=RandomForestClassifier(random_state=42)"
   ]
  },
  {
   "cell_type": "code",
   "execution_count": 29,
   "id": "35f17651",
   "metadata": {},
   "outputs": [
    {
     "name": "stderr",
     "output_type": "stream",
     "text": [
      "d:\\NLP assignment\\NLP_Project\\venv\\lib\\site-packages\\sklearn\\linear_model\\_logistic.py:460: ConvergenceWarning: lbfgs failed to converge (status=1):\n",
      "STOP: TOTAL NO. of ITERATIONS REACHED LIMIT.\n",
      "\n",
      "Increase the number of iterations (max_iter) or scale the data as shown in:\n",
      "    https://scikit-learn.org/stable/modules/preprocessing.html\n",
      "Please also refer to the documentation for alternative solver options:\n",
      "    https://scikit-learn.org/stable/modules/linear_model.html#logistic-regression\n",
      "  n_iter_i = _check_optimize_result(\n"
     ]
    },
    {
     "data": {
      "text/html": [
       "<style>#sk-container-id-2 {color: black;}#sk-container-id-2 pre{padding: 0;}#sk-container-id-2 div.sk-toggleable {background-color: white;}#sk-container-id-2 label.sk-toggleable__label {cursor: pointer;display: block;width: 100%;margin-bottom: 0;padding: 0.3em;box-sizing: border-box;text-align: center;}#sk-container-id-2 label.sk-toggleable__label-arrow:before {content: \"▸\";float: left;margin-right: 0.25em;color: #696969;}#sk-container-id-2 label.sk-toggleable__label-arrow:hover:before {color: black;}#sk-container-id-2 div.sk-estimator:hover label.sk-toggleable__label-arrow:before {color: black;}#sk-container-id-2 div.sk-toggleable__content {max-height: 0;max-width: 0;overflow: hidden;text-align: left;background-color: #f0f8ff;}#sk-container-id-2 div.sk-toggleable__content pre {margin: 0.2em;color: black;border-radius: 0.25em;background-color: #f0f8ff;}#sk-container-id-2 input.sk-toggleable__control:checked~div.sk-toggleable__content {max-height: 200px;max-width: 100%;overflow: auto;}#sk-container-id-2 input.sk-toggleable__control:checked~label.sk-toggleable__label-arrow:before {content: \"▾\";}#sk-container-id-2 div.sk-estimator input.sk-toggleable__control:checked~label.sk-toggleable__label {background-color: #d4ebff;}#sk-container-id-2 div.sk-label input.sk-toggleable__control:checked~label.sk-toggleable__label {background-color: #d4ebff;}#sk-container-id-2 input.sk-hidden--visually {border: 0;clip: rect(1px 1px 1px 1px);clip: rect(1px, 1px, 1px, 1px);height: 1px;margin: -1px;overflow: hidden;padding: 0;position: absolute;width: 1px;}#sk-container-id-2 div.sk-estimator {font-family: monospace;background-color: #f0f8ff;border: 1px dotted black;border-radius: 0.25em;box-sizing: border-box;margin-bottom: 0.5em;}#sk-container-id-2 div.sk-estimator:hover {background-color: #d4ebff;}#sk-container-id-2 div.sk-parallel-item::after {content: \"\";width: 100%;border-bottom: 1px solid gray;flex-grow: 1;}#sk-container-id-2 div.sk-label:hover label.sk-toggleable__label {background-color: #d4ebff;}#sk-container-id-2 div.sk-serial::before {content: \"\";position: absolute;border-left: 1px solid gray;box-sizing: border-box;top: 0;bottom: 0;left: 50%;z-index: 0;}#sk-container-id-2 div.sk-serial {display: flex;flex-direction: column;align-items: center;background-color: white;padding-right: 0.2em;padding-left: 0.2em;position: relative;}#sk-container-id-2 div.sk-item {position: relative;z-index: 1;}#sk-container-id-2 div.sk-parallel {display: flex;align-items: stretch;justify-content: center;background-color: white;position: relative;}#sk-container-id-2 div.sk-item::before, #sk-container-id-2 div.sk-parallel-item::before {content: \"\";position: absolute;border-left: 1px solid gray;box-sizing: border-box;top: 0;bottom: 0;left: 50%;z-index: -1;}#sk-container-id-2 div.sk-parallel-item {display: flex;flex-direction: column;z-index: 1;position: relative;background-color: white;}#sk-container-id-2 div.sk-parallel-item:first-child::after {align-self: flex-end;width: 50%;}#sk-container-id-2 div.sk-parallel-item:last-child::after {align-self: flex-start;width: 50%;}#sk-container-id-2 div.sk-parallel-item:only-child::after {width: 0;}#sk-container-id-2 div.sk-dashed-wrapped {border: 1px dashed gray;margin: 0 0.4em 0.5em 0.4em;box-sizing: border-box;padding-bottom: 0.4em;background-color: white;}#sk-container-id-2 div.sk-label label {font-family: monospace;font-weight: bold;display: inline-block;line-height: 1.2em;}#sk-container-id-2 div.sk-label-container {text-align: center;}#sk-container-id-2 div.sk-container {/* jupyter's `normalize.less` sets `[hidden] { display: none; }` but bootstrap.min.css set `[hidden] { display: none !important; }` so we also need the `!important` here to be able to override the default hidden behavior on the sphinx rendered scikit-learn.org. See: https://github.com/scikit-learn/scikit-learn/issues/21755 */display: inline-block !important;position: relative;}#sk-container-id-2 div.sk-text-repr-fallback {display: none;}</style><div id=\"sk-container-id-2\" class=\"sk-top-container\"><div class=\"sk-text-repr-fallback\"><pre>LogisticRegression(random_state=42)</pre><b>In a Jupyter environment, please rerun this cell to show the HTML representation or trust the notebook. <br />On GitHub, the HTML representation is unable to render, please try loading this page with nbviewer.org.</b></div><div class=\"sk-container\" hidden><div class=\"sk-item\"><div class=\"sk-estimator sk-toggleable\"><input class=\"sk-toggleable__control sk-hidden--visually\" id=\"sk-estimator-id-2\" type=\"checkbox\" checked><label for=\"sk-estimator-id-2\" class=\"sk-toggleable__label sk-toggleable__label-arrow\">LogisticRegression</label><div class=\"sk-toggleable__content\"><pre>LogisticRegression(random_state=42)</pre></div></div></div></div></div>"
      ],
      "text/plain": [
       "LogisticRegression(random_state=42)"
      ]
     },
     "execution_count": 29,
     "metadata": {},
     "output_type": "execute_result"
    }
   ],
   "source": [
    "lr_model.fit(X_train,y_train)"
   ]
  },
  {
   "cell_type": "code",
   "execution_count": 31,
   "id": "e83e5d9b",
   "metadata": {},
   "outputs": [
    {
     "data": {
      "text/plain": [
       "array([[ 103,   31,   56],\n",
       "       [  22,  277,  190],\n",
       "       [  20,   90, 4209]], dtype=int64)"
      ]
     },
     "execution_count": 31,
     "metadata": {},
     "output_type": "execute_result"
    }
   ],
   "source": [
    "confusion_matrix(y_valid,lr_model.predict(X_valid))"
   ]
  },
  {
   "cell_type": "code",
   "execution_count": 30,
   "id": "46eae8f8",
   "metadata": {},
   "outputs": [
    {
     "name": "stdout",
     "output_type": "stream",
     "text": [
      "              precision    recall  f1-score   support\n",
      "\n",
      "    negative       0.71      0.54      0.61       190\n",
      "     neutral       0.70      0.57      0.62       489\n",
      "    positive       0.94      0.97      0.96      4319\n",
      "\n",
      "    accuracy                           0.92      4998\n",
      "   macro avg       0.78      0.69      0.73      4998\n",
      "weighted avg       0.91      0.92      0.91      4998\n",
      "\n"
     ]
    }
   ],
   "source": [
    "print(classification_report(y_valid,lr_model.predict(X_valid)))"
   ]
  },
  {
   "cell_type": "code",
   "execution_count": 36,
   "id": "a0a5fdbc",
   "metadata": {},
   "outputs": [
    {
     "data": {
      "text/plain": [
       "(0.7329760584350113, 0.9181672669067628)"
      ]
     },
     "execution_count": 36,
     "metadata": {},
     "output_type": "execute_result"
    }
   ],
   "source": [
    "f1_score(y_valid,lr_model.predict(X_valid),average='macro'),f1_score(y_valid,lr_model.predict(X_valid),average='micro')"
   ]
  },
  {
   "cell_type": "code",
   "execution_count": 37,
   "id": "f491da75",
   "metadata": {},
   "outputs": [
    {
     "data": {
      "text/html": [
       "<style>#sk-container-id-3 {color: black;}#sk-container-id-3 pre{padding: 0;}#sk-container-id-3 div.sk-toggleable {background-color: white;}#sk-container-id-3 label.sk-toggleable__label {cursor: pointer;display: block;width: 100%;margin-bottom: 0;padding: 0.3em;box-sizing: border-box;text-align: center;}#sk-container-id-3 label.sk-toggleable__label-arrow:before {content: \"▸\";float: left;margin-right: 0.25em;color: #696969;}#sk-container-id-3 label.sk-toggleable__label-arrow:hover:before {color: black;}#sk-container-id-3 div.sk-estimator:hover label.sk-toggleable__label-arrow:before {color: black;}#sk-container-id-3 div.sk-toggleable__content {max-height: 0;max-width: 0;overflow: hidden;text-align: left;background-color: #f0f8ff;}#sk-container-id-3 div.sk-toggleable__content pre {margin: 0.2em;color: black;border-radius: 0.25em;background-color: #f0f8ff;}#sk-container-id-3 input.sk-toggleable__control:checked~div.sk-toggleable__content {max-height: 200px;max-width: 100%;overflow: auto;}#sk-container-id-3 input.sk-toggleable__control:checked~label.sk-toggleable__label-arrow:before {content: \"▾\";}#sk-container-id-3 div.sk-estimator input.sk-toggleable__control:checked~label.sk-toggleable__label {background-color: #d4ebff;}#sk-container-id-3 div.sk-label input.sk-toggleable__control:checked~label.sk-toggleable__label {background-color: #d4ebff;}#sk-container-id-3 input.sk-hidden--visually {border: 0;clip: rect(1px 1px 1px 1px);clip: rect(1px, 1px, 1px, 1px);height: 1px;margin: -1px;overflow: hidden;padding: 0;position: absolute;width: 1px;}#sk-container-id-3 div.sk-estimator {font-family: monospace;background-color: #f0f8ff;border: 1px dotted black;border-radius: 0.25em;box-sizing: border-box;margin-bottom: 0.5em;}#sk-container-id-3 div.sk-estimator:hover {background-color: #d4ebff;}#sk-container-id-3 div.sk-parallel-item::after {content: \"\";width: 100%;border-bottom: 1px solid gray;flex-grow: 1;}#sk-container-id-3 div.sk-label:hover label.sk-toggleable__label {background-color: #d4ebff;}#sk-container-id-3 div.sk-serial::before {content: \"\";position: absolute;border-left: 1px solid gray;box-sizing: border-box;top: 0;bottom: 0;left: 50%;z-index: 0;}#sk-container-id-3 div.sk-serial {display: flex;flex-direction: column;align-items: center;background-color: white;padding-right: 0.2em;padding-left: 0.2em;position: relative;}#sk-container-id-3 div.sk-item {position: relative;z-index: 1;}#sk-container-id-3 div.sk-parallel {display: flex;align-items: stretch;justify-content: center;background-color: white;position: relative;}#sk-container-id-3 div.sk-item::before, #sk-container-id-3 div.sk-parallel-item::before {content: \"\";position: absolute;border-left: 1px solid gray;box-sizing: border-box;top: 0;bottom: 0;left: 50%;z-index: -1;}#sk-container-id-3 div.sk-parallel-item {display: flex;flex-direction: column;z-index: 1;position: relative;background-color: white;}#sk-container-id-3 div.sk-parallel-item:first-child::after {align-self: flex-end;width: 50%;}#sk-container-id-3 div.sk-parallel-item:last-child::after {align-self: flex-start;width: 50%;}#sk-container-id-3 div.sk-parallel-item:only-child::after {width: 0;}#sk-container-id-3 div.sk-dashed-wrapped {border: 1px dashed gray;margin: 0 0.4em 0.5em 0.4em;box-sizing: border-box;padding-bottom: 0.4em;background-color: white;}#sk-container-id-3 div.sk-label label {font-family: monospace;font-weight: bold;display: inline-block;line-height: 1.2em;}#sk-container-id-3 div.sk-label-container {text-align: center;}#sk-container-id-3 div.sk-container {/* jupyter's `normalize.less` sets `[hidden] { display: none; }` but bootstrap.min.css set `[hidden] { display: none !important; }` so we also need the `!important` here to be able to override the default hidden behavior on the sphinx rendered scikit-learn.org. See: https://github.com/scikit-learn/scikit-learn/issues/21755 */display: inline-block !important;position: relative;}#sk-container-id-3 div.sk-text-repr-fallback {display: none;}</style><div id=\"sk-container-id-3\" class=\"sk-top-container\"><div class=\"sk-text-repr-fallback\"><pre>DecisionTreeClassifier(random_state=42)</pre><b>In a Jupyter environment, please rerun this cell to show the HTML representation or trust the notebook. <br />On GitHub, the HTML representation is unable to render, please try loading this page with nbviewer.org.</b></div><div class=\"sk-container\" hidden><div class=\"sk-item\"><div class=\"sk-estimator sk-toggleable\"><input class=\"sk-toggleable__control sk-hidden--visually\" id=\"sk-estimator-id-3\" type=\"checkbox\" checked><label for=\"sk-estimator-id-3\" class=\"sk-toggleable__label sk-toggleable__label-arrow\">DecisionTreeClassifier</label><div class=\"sk-toggleable__content\"><pre>DecisionTreeClassifier(random_state=42)</pre></div></div></div></div></div>"
      ],
      "text/plain": [
       "DecisionTreeClassifier(random_state=42)"
      ]
     },
     "execution_count": 37,
     "metadata": {},
     "output_type": "execute_result"
    }
   ],
   "source": [
    "dt_model.fit(X_train,y_train)"
   ]
  },
  {
   "cell_type": "code",
   "execution_count": 38,
   "id": "37261cfc",
   "metadata": {},
   "outputs": [
    {
     "data": {
      "text/plain": [
       "array([[  84,   24,   82],\n",
       "       [  30,  273,  186],\n",
       "       [  80,  227, 4012]], dtype=int64)"
      ]
     },
     "execution_count": 38,
     "metadata": {},
     "output_type": "execute_result"
    }
   ],
   "source": [
    "confusion_matrix(y_valid,dt_model.predict(X_valid))"
   ]
  },
  {
   "cell_type": "code",
   "execution_count": 40,
   "id": "5ceb42ac",
   "metadata": {},
   "outputs": [
    {
     "name": "stdout",
     "output_type": "stream",
     "text": [
      "              precision    recall  f1-score   support\n",
      "\n",
      "    negative       0.43      0.44      0.44       190\n",
      "     neutral       0.52      0.56      0.54       489\n",
      "    positive       0.94      0.93      0.93      4319\n",
      "\n",
      "    accuracy                           0.87      4998\n",
      "   macro avg       0.63      0.64      0.64      4998\n",
      "weighted avg       0.88      0.87      0.88      4998\n",
      "\n"
     ]
    }
   ],
   "source": [
    "print(classification_report(y_valid,dt_model.predict(X_valid)))"
   ]
  },
  {
   "cell_type": "code",
   "execution_count": 41,
   "id": "9b066b78",
   "metadata": {},
   "outputs": [
    {
     "data": {
      "text/plain": [
       "(0.636541616446367, 0.8741496598639455)"
      ]
     },
     "execution_count": 41,
     "metadata": {},
     "output_type": "execute_result"
    }
   ],
   "source": [
    "f1_score(y_valid,dt_model.predict(X_valid),average='macro'),f1_score(y_valid,dt_model.predict(X_valid),average='micro')"
   ]
  },
  {
   "cell_type": "code",
   "execution_count": 42,
   "id": "1f6f3e2b",
   "metadata": {},
   "outputs": [
    {
     "data": {
      "text/html": [
       "<style>#sk-container-id-4 {color: black;}#sk-container-id-4 pre{padding: 0;}#sk-container-id-4 div.sk-toggleable {background-color: white;}#sk-container-id-4 label.sk-toggleable__label {cursor: pointer;display: block;width: 100%;margin-bottom: 0;padding: 0.3em;box-sizing: border-box;text-align: center;}#sk-container-id-4 label.sk-toggleable__label-arrow:before {content: \"▸\";float: left;margin-right: 0.25em;color: #696969;}#sk-container-id-4 label.sk-toggleable__label-arrow:hover:before {color: black;}#sk-container-id-4 div.sk-estimator:hover label.sk-toggleable__label-arrow:before {color: black;}#sk-container-id-4 div.sk-toggleable__content {max-height: 0;max-width: 0;overflow: hidden;text-align: left;background-color: #f0f8ff;}#sk-container-id-4 div.sk-toggleable__content pre {margin: 0.2em;color: black;border-radius: 0.25em;background-color: #f0f8ff;}#sk-container-id-4 input.sk-toggleable__control:checked~div.sk-toggleable__content {max-height: 200px;max-width: 100%;overflow: auto;}#sk-container-id-4 input.sk-toggleable__control:checked~label.sk-toggleable__label-arrow:before {content: \"▾\";}#sk-container-id-4 div.sk-estimator input.sk-toggleable__control:checked~label.sk-toggleable__label {background-color: #d4ebff;}#sk-container-id-4 div.sk-label input.sk-toggleable__control:checked~label.sk-toggleable__label {background-color: #d4ebff;}#sk-container-id-4 input.sk-hidden--visually {border: 0;clip: rect(1px 1px 1px 1px);clip: rect(1px, 1px, 1px, 1px);height: 1px;margin: -1px;overflow: hidden;padding: 0;position: absolute;width: 1px;}#sk-container-id-4 div.sk-estimator {font-family: monospace;background-color: #f0f8ff;border: 1px dotted black;border-radius: 0.25em;box-sizing: border-box;margin-bottom: 0.5em;}#sk-container-id-4 div.sk-estimator:hover {background-color: #d4ebff;}#sk-container-id-4 div.sk-parallel-item::after {content: \"\";width: 100%;border-bottom: 1px solid gray;flex-grow: 1;}#sk-container-id-4 div.sk-label:hover label.sk-toggleable__label {background-color: #d4ebff;}#sk-container-id-4 div.sk-serial::before {content: \"\";position: absolute;border-left: 1px solid gray;box-sizing: border-box;top: 0;bottom: 0;left: 50%;z-index: 0;}#sk-container-id-4 div.sk-serial {display: flex;flex-direction: column;align-items: center;background-color: white;padding-right: 0.2em;padding-left: 0.2em;position: relative;}#sk-container-id-4 div.sk-item {position: relative;z-index: 1;}#sk-container-id-4 div.sk-parallel {display: flex;align-items: stretch;justify-content: center;background-color: white;position: relative;}#sk-container-id-4 div.sk-item::before, #sk-container-id-4 div.sk-parallel-item::before {content: \"\";position: absolute;border-left: 1px solid gray;box-sizing: border-box;top: 0;bottom: 0;left: 50%;z-index: -1;}#sk-container-id-4 div.sk-parallel-item {display: flex;flex-direction: column;z-index: 1;position: relative;background-color: white;}#sk-container-id-4 div.sk-parallel-item:first-child::after {align-self: flex-end;width: 50%;}#sk-container-id-4 div.sk-parallel-item:last-child::after {align-self: flex-start;width: 50%;}#sk-container-id-4 div.sk-parallel-item:only-child::after {width: 0;}#sk-container-id-4 div.sk-dashed-wrapped {border: 1px dashed gray;margin: 0 0.4em 0.5em 0.4em;box-sizing: border-box;padding-bottom: 0.4em;background-color: white;}#sk-container-id-4 div.sk-label label {font-family: monospace;font-weight: bold;display: inline-block;line-height: 1.2em;}#sk-container-id-4 div.sk-label-container {text-align: center;}#sk-container-id-4 div.sk-container {/* jupyter's `normalize.less` sets `[hidden] { display: none; }` but bootstrap.min.css set `[hidden] { display: none !important; }` so we also need the `!important` here to be able to override the default hidden behavior on the sphinx rendered scikit-learn.org. See: https://github.com/scikit-learn/scikit-learn/issues/21755 */display: inline-block !important;position: relative;}#sk-container-id-4 div.sk-text-repr-fallback {display: none;}</style><div id=\"sk-container-id-4\" class=\"sk-top-container\"><div class=\"sk-text-repr-fallback\"><pre>RandomForestClassifier(random_state=42)</pre><b>In a Jupyter environment, please rerun this cell to show the HTML representation or trust the notebook. <br />On GitHub, the HTML representation is unable to render, please try loading this page with nbviewer.org.</b></div><div class=\"sk-container\" hidden><div class=\"sk-item\"><div class=\"sk-estimator sk-toggleable\"><input class=\"sk-toggleable__control sk-hidden--visually\" id=\"sk-estimator-id-4\" type=\"checkbox\" checked><label for=\"sk-estimator-id-4\" class=\"sk-toggleable__label sk-toggleable__label-arrow\">RandomForestClassifier</label><div class=\"sk-toggleable__content\"><pre>RandomForestClassifier(random_state=42)</pre></div></div></div></div></div>"
      ],
      "text/plain": [
       "RandomForestClassifier(random_state=42)"
      ]
     },
     "execution_count": 42,
     "metadata": {},
     "output_type": "execute_result"
    }
   ],
   "source": [
    "rf_model.fit(X_train,y_train)"
   ]
  },
  {
   "cell_type": "code",
   "execution_count": 43,
   "id": "230d2b12",
   "metadata": {},
   "outputs": [
    {
     "data": {
      "text/plain": [
       "array([[  69,    8,  113],\n",
       "       [   1,  193,  295],\n",
       "       [   0,    6, 4313]], dtype=int64)"
      ]
     },
     "execution_count": 43,
     "metadata": {},
     "output_type": "execute_result"
    }
   ],
   "source": [
    "confusion_matrix(y_valid,rf_model.predict(X_valid))"
   ]
  },
  {
   "cell_type": "code",
   "execution_count": 44,
   "id": "24726ed1",
   "metadata": {},
   "outputs": [
    {
     "name": "stdout",
     "output_type": "stream",
     "text": [
      "              precision    recall  f1-score   support\n",
      "\n",
      "    negative       0.99      0.36      0.53       190\n",
      "     neutral       0.93      0.39      0.55       489\n",
      "    positive       0.91      1.00      0.95      4319\n",
      "\n",
      "    accuracy                           0.92      4998\n",
      "   macro avg       0.94      0.59      0.68      4998\n",
      "weighted avg       0.92      0.92      0.90      4998\n",
      "\n"
     ]
    }
   ],
   "source": [
    "print(classification_report(y_valid,rf_model.predict(X_valid)))"
   ]
  },
  {
   "cell_type": "code",
   "execution_count": 45,
   "id": "af5a3c7f",
   "metadata": {},
   "outputs": [
    {
     "data": {
      "text/plain": [
       "(0.6798568239138882, 0.9153661464585834)"
      ]
     },
     "execution_count": 45,
     "metadata": {},
     "output_type": "execute_result"
    }
   ],
   "source": [
    "f1_score(y_valid,rf_model.predict(X_valid),average='macro'),f1_score(y_valid,rf_model.predict(X_valid),average='micro')"
   ]
  },
  {
   "cell_type": "code",
   "execution_count": 47,
   "id": "b086a1eb",
   "metadata": {},
   "outputs": [],
   "source": [
    "# take data in balanced format\n",
    "positve=df[df.sentiment_label=='positive'].reset_index(drop=True)\n",
    "neutral=df[df.sentiment_label=='neutral'].reset_index(drop=True)\n",
    "negative=df[df.sentiment_label=='negative'].reset_index(drop=True)"
   ]
  },
  {
   "cell_type": "code",
   "execution_count": 66,
   "id": "6567bf50",
   "metadata": {},
   "outputs": [],
   "source": [
    "balanced_df=pd.concat([positve.sample(700),neutral.sample(700),negative.sample(700)],axis=0).reset_index(drop=True)"
   ]
  },
  {
   "cell_type": "code",
   "execution_count": 67,
   "id": "478afc3d",
   "metadata": {},
   "outputs": [],
   "source": [
    "b_X_train,b_X_valid,b_y_train,b_y_valid=train_test_split(balanced_df.drop(['product_id','sentiment_label'],axis=1),balanced_df.sentiment_label,train_size=0.8,random_state=42,stratify=balanced_df.sentiment_label)"
   ]
  },
  {
   "cell_type": "code",
   "execution_count": 68,
   "id": "a5f09612",
   "metadata": {},
   "outputs": [
    {
     "data": {
      "text/html": [
       "<style>#sk-container-id-6 {color: black;}#sk-container-id-6 pre{padding: 0;}#sk-container-id-6 div.sk-toggleable {background-color: white;}#sk-container-id-6 label.sk-toggleable__label {cursor: pointer;display: block;width: 100%;margin-bottom: 0;padding: 0.3em;box-sizing: border-box;text-align: center;}#sk-container-id-6 label.sk-toggleable__label-arrow:before {content: \"▸\";float: left;margin-right: 0.25em;color: #696969;}#sk-container-id-6 label.sk-toggleable__label-arrow:hover:before {color: black;}#sk-container-id-6 div.sk-estimator:hover label.sk-toggleable__label-arrow:before {color: black;}#sk-container-id-6 div.sk-toggleable__content {max-height: 0;max-width: 0;overflow: hidden;text-align: left;background-color: #f0f8ff;}#sk-container-id-6 div.sk-toggleable__content pre {margin: 0.2em;color: black;border-radius: 0.25em;background-color: #f0f8ff;}#sk-container-id-6 input.sk-toggleable__control:checked~div.sk-toggleable__content {max-height: 200px;max-width: 100%;overflow: auto;}#sk-container-id-6 input.sk-toggleable__control:checked~label.sk-toggleable__label-arrow:before {content: \"▾\";}#sk-container-id-6 div.sk-estimator input.sk-toggleable__control:checked~label.sk-toggleable__label {background-color: #d4ebff;}#sk-container-id-6 div.sk-label input.sk-toggleable__control:checked~label.sk-toggleable__label {background-color: #d4ebff;}#sk-container-id-6 input.sk-hidden--visually {border: 0;clip: rect(1px 1px 1px 1px);clip: rect(1px, 1px, 1px, 1px);height: 1px;margin: -1px;overflow: hidden;padding: 0;position: absolute;width: 1px;}#sk-container-id-6 div.sk-estimator {font-family: monospace;background-color: #f0f8ff;border: 1px dotted black;border-radius: 0.25em;box-sizing: border-box;margin-bottom: 0.5em;}#sk-container-id-6 div.sk-estimator:hover {background-color: #d4ebff;}#sk-container-id-6 div.sk-parallel-item::after {content: \"\";width: 100%;border-bottom: 1px solid gray;flex-grow: 1;}#sk-container-id-6 div.sk-label:hover label.sk-toggleable__label {background-color: #d4ebff;}#sk-container-id-6 div.sk-serial::before {content: \"\";position: absolute;border-left: 1px solid gray;box-sizing: border-box;top: 0;bottom: 0;left: 50%;z-index: 0;}#sk-container-id-6 div.sk-serial {display: flex;flex-direction: column;align-items: center;background-color: white;padding-right: 0.2em;padding-left: 0.2em;position: relative;}#sk-container-id-6 div.sk-item {position: relative;z-index: 1;}#sk-container-id-6 div.sk-parallel {display: flex;align-items: stretch;justify-content: center;background-color: white;position: relative;}#sk-container-id-6 div.sk-item::before, #sk-container-id-6 div.sk-parallel-item::before {content: \"\";position: absolute;border-left: 1px solid gray;box-sizing: border-box;top: 0;bottom: 0;left: 50%;z-index: -1;}#sk-container-id-6 div.sk-parallel-item {display: flex;flex-direction: column;z-index: 1;position: relative;background-color: white;}#sk-container-id-6 div.sk-parallel-item:first-child::after {align-self: flex-end;width: 50%;}#sk-container-id-6 div.sk-parallel-item:last-child::after {align-self: flex-start;width: 50%;}#sk-container-id-6 div.sk-parallel-item:only-child::after {width: 0;}#sk-container-id-6 div.sk-dashed-wrapped {border: 1px dashed gray;margin: 0 0.4em 0.5em 0.4em;box-sizing: border-box;padding-bottom: 0.4em;background-color: white;}#sk-container-id-6 div.sk-label label {font-family: monospace;font-weight: bold;display: inline-block;line-height: 1.2em;}#sk-container-id-6 div.sk-label-container {text-align: center;}#sk-container-id-6 div.sk-container {/* jupyter's `normalize.less` sets `[hidden] { display: none; }` but bootstrap.min.css set `[hidden] { display: none !important; }` so we also need the `!important` here to be able to override the default hidden behavior on the sphinx rendered scikit-learn.org. See: https://github.com/scikit-learn/scikit-learn/issues/21755 */display: inline-block !important;position: relative;}#sk-container-id-6 div.sk-text-repr-fallback {display: none;}</style><div id=\"sk-container-id-6\" class=\"sk-top-container\"><div class=\"sk-text-repr-fallback\"><pre>RandomForestClassifier(random_state=42)</pre><b>In a Jupyter environment, please rerun this cell to show the HTML representation or trust the notebook. <br />On GitHub, the HTML representation is unable to render, please try loading this page with nbviewer.org.</b></div><div class=\"sk-container\" hidden><div class=\"sk-item\"><div class=\"sk-estimator sk-toggleable\"><input class=\"sk-toggleable__control sk-hidden--visually\" id=\"sk-estimator-id-6\" type=\"checkbox\" checked><label for=\"sk-estimator-id-6\" class=\"sk-toggleable__label sk-toggleable__label-arrow\">RandomForestClassifier</label><div class=\"sk-toggleable__content\"><pre>RandomForestClassifier(random_state=42)</pre></div></div></div></div></div>"
      ],
      "text/plain": [
       "RandomForestClassifier(random_state=42)"
      ]
     },
     "execution_count": 68,
     "metadata": {},
     "output_type": "execute_result"
    }
   ],
   "source": [
    "rf_model.fit(b_X_train,b_y_train)"
   ]
  },
  {
   "cell_type": "code",
   "execution_count": 69,
   "id": "461eefe0",
   "metadata": {},
   "outputs": [
    {
     "data": {
      "text/plain": [
       "array([[101,  27,  12],\n",
       "       [ 23,  94,  23],\n",
       "       [  9,  28, 103]], dtype=int64)"
      ]
     },
     "execution_count": 69,
     "metadata": {},
     "output_type": "execute_result"
    }
   ],
   "source": [
    "confusion_matrix(b_y_valid,rf_model.predict(b_X_valid))"
   ]
  },
  {
   "cell_type": "code",
   "execution_count": 70,
   "id": "34e9cb9a",
   "metadata": {},
   "outputs": [
    {
     "name": "stdout",
     "output_type": "stream",
     "text": [
      "              precision    recall  f1-score   support\n",
      "\n",
      "    negative       0.76      0.72      0.74       140\n",
      "     neutral       0.63      0.67      0.65       140\n",
      "    positive       0.75      0.74      0.74       140\n",
      "\n",
      "    accuracy                           0.71       420\n",
      "   macro avg       0.71      0.71      0.71       420\n",
      "weighted avg       0.71      0.71      0.71       420\n",
      "\n"
     ]
    }
   ],
   "source": [
    "print(classification_report(b_y_valid,rf_model.predict(b_X_valid)))"
   ]
  },
  {
   "cell_type": "code",
   "execution_count": 71,
   "id": "d4449139",
   "metadata": {},
   "outputs": [
    {
     "name": "stdout",
     "output_type": "stream",
     "text": [
      "              precision    recall  f1-score   support\n",
      "\n",
      "    negative       0.34      0.89      0.50       190\n",
      "     neutral       0.36      0.76      0.49       489\n",
      "    positive       0.99      0.80      0.88      4319\n",
      "\n",
      "    accuracy                           0.80      4998\n",
      "   macro avg       0.57      0.82      0.62      4998\n",
      "weighted avg       0.90      0.80      0.83      4998\n",
      "\n"
     ]
    }
   ],
   "source": [
    "print(classification_report(y_valid,rf_model.predict(X_valid)))"
   ]
  },
  {
   "cell_type": "code",
   "execution_count": 73,
   "id": "e6ebbf84",
   "metadata": {},
   "outputs": [
    {
     "data": {
      "text/plain": [
       "(0.6234238266872955, 0.7965186074429772)"
      ]
     },
     "execution_count": 73,
     "metadata": {},
     "output_type": "execute_result"
    }
   ],
   "source": [
    "# after balancing the dataset\n",
    "f1_score(y_valid,rf_model.predict(X_valid),average='macro'),f1_score(y_valid,rf_model.predict(X_valid),average='micro')"
   ]
  },
  {
   "cell_type": "code",
   "execution_count": 76,
   "id": "2641e1aa",
   "metadata": {},
   "outputs": [
    {
     "data": {
      "text/plain": [
       "[]"
      ]
     },
     "execution_count": 76,
     "metadata": {},
     "output_type": "execute_result"
    }
   ],
   "source": [
    "os.listdir('../models/baseline')"
   ]
  },
  {
   "cell_type": "code",
   "execution_count": 79,
   "id": "03ffc376",
   "metadata": {},
   "outputs": [
    {
     "data": {
      "text/plain": [
       "['../models/baseline/logistic_regression_model.joblib']"
      ]
     },
     "execution_count": 79,
     "metadata": {},
     "output_type": "execute_result"
    }
   ],
   "source": [
    "# save the model\n",
    "from sklearn.ensemble import RandomForestClassifier\n",
    "import joblib\n",
    "\n",
    "\n",
    "# Save the model\n",
    "joblib.dump(rf_model, '../models/baseline/random_forest_model.joblib')\n",
    "joblib.dump(dt_model, '../models/baseline/decision_tree_model.joblib')\n",
    "joblib.dump(lr_model, '../models/baseline/logistic_regression_model.joblib')\n"
   ]
  }
 ],
 "metadata": {
  "kernelspec": {
   "display_name": "Python 3",
   "language": "python",
   "name": "python3"
  },
  "language_info": {
   "codemirror_mode": {
    "name": "ipython",
    "version": 3
   },
   "file_extension": ".py",
   "mimetype": "text/x-python",
   "name": "python",
   "nbconvert_exporter": "python",
   "pygments_lexer": "ipython3",
   "version": "3.8.0"
  }
 },
 "nbformat": 4,
 "nbformat_minor": 5
}
